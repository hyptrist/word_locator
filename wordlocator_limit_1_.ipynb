{
 "cells": [
  {
   "cell_type": "code",
   "execution_count": 1,
   "metadata": {},
   "outputs": [
    {
     "name": "stderr",
     "output_type": "stream",
     "text": [
      "F:\\ana\\lib\\site-packages\\fuzzywuzzy\\fuzz.py:11: UserWarning: Using slow pure-python SequenceMatcher. Install python-Levenshtein to remove this warning\n",
      "  warnings.warn('Using slow pure-python SequenceMatcher. Install python-Levenshtein to remove this warning')\n"
     ]
    }
   ],
   "source": [
    "import numpy as np\n",
    "import re\n",
    "import string\n",
    "from fuzzywuzzy import process, fuzz\n",
    "from nltk.tokenize import TweetTokenizer\n",
    "import time"
   ]
  },
  {
   "cell_type": "code",
   "execution_count": 14,
   "metadata": {},
   "outputs": [],
   "source": [
    "def word_locator(sentences,word_to_find):\n",
    "    sentences=sentences.lower()\n",
    "    sentences=re.sub(r'\\$\\w*','',sentences)\n",
    "    sentences=re.sub(r'https?:\\/\\/.*[\\r\\n]*','',sentences)\n",
    "    sentences=re.sub(r'#,@','',sentences)\n",
    "    tokenizer=TweetTokenizer(preserve_case=False,strip_handles=True,reduce_len=True)\n",
    "    tweet_tokens=tokenizer.tokenize(sentences)\n",
    "    word_clean=[]\n",
    "    for words in tweet_tokens:\n",
    "        if words not in string.punctuation:\n",
    "            words=words.lower()\n",
    "            word_clean.append(words)\n",
    "            temp=set(word_clean)\n",
    "    i=process.extract(word_to_find, temp, scorer=fuzz.token_sort_ratio,limit=1) #can change 'limit' seeing the threshold of i\n",
    "    alpha=list(zip(*i))\n",
    "    beta=alpha[0]\n",
    "    #word_to_find = re.findall('\\w+', beta) if the list is alphanumeric\n",
    "    pos=[]\n",
    "    for x in beta:\n",
    "        matches = re.finditer(x, sentences)\n",
    "        matches_positions = [match.start() for match in matches]\n",
    "        pos.append(matches_positions)\n",
    "    return i,pos"
   ]
  },
  {
   "cell_type": "code",
   "execution_count": 15,
   "metadata": {},
   "outputs": [],
   "source": [
    "sen='I have travelled worldwide and had beautiful days. Got to see the world closely.'"
   ]
  },
  {
   "cell_type": "code",
   "execution_count": 16,
   "metadata": {},
   "outputs": [
    {
     "data": {
      "text/plain": [
       "([('world', 100)], [[17, 66]])"
      ]
     },
     "execution_count": 16,
     "metadata": {},
     "output_type": "execute_result"
    }
   ],
   "source": [
    "word_locator(sen,'world')"
   ]
  },
  {
   "cell_type": "code",
   "execution_count": 17,
   "metadata": {},
   "outputs": [],
   "source": [
    "sen1='''Lately I've started preparing for the examinations but because of my lazy attitude I wasn't able to start early. I've kept my phone on autostart.'''"
   ]
  },
  {
   "cell_type": "code",
   "execution_count": 23,
   "metadata": {},
   "outputs": [
    {
     "name": "stdout",
     "output_type": "stream",
     "text": [
      "--- 0.0030031204223632812 seconds ---\n"
     ]
    }
   ],
   "source": [
    "start_time = time.time()\n",
    "word_locator(sen1,'start')\n",
    "print(\"--- %s seconds ---\" % (time.time() - start_time))"
   ]
  },
  {
   "cell_type": "code",
   "execution_count": 18,
   "metadata": {},
   "outputs": [
    {
     "data": {
      "text/plain": [
       "([('start', 100)], [[12, 100, 139]])"
      ]
     },
     "execution_count": 18,
     "metadata": {},
     "output_type": "execute_result"
    }
   ],
   "source": [
    "word_locator(sen1,'start')"
   ]
  },
  {
   "cell_type": "markdown",
   "metadata": {},
   "source": [
    "So one thing is clear, if we set the limit for the wordlocator function one, i.e limit=1, It is able to extract the word from the exact word or mix of two or more words and give their positions. It's more beneficial if we already know that a particular word is already present in the passage if not one can increase the limit to find more similar words. "
   ]
  },
  {
   "cell_type": "code",
   "execution_count": 20,
   "metadata": {},
   "outputs": [],
   "source": [
    "article=\"\"\"\n",
    "[The COVID-19 pandemic in Greece is part of the worldwide pandemic of coronavirus disease 2019 (COVID-19) caused by severe acute respiratory syndrome coronavirus 2 (SARS-CoV-2). The first case in Greece was confirmed on 26 February 2020 when a 38-year-old woman from Thessaloniki who had recently visited Νorthern Italy, was confirmed to be infected. Subsequent cases in late February and early March related to people who had travelled to Italy and a group of pilgrims who had travelled to Israel and Egypt, as well as their contacts. The first death from COVID-19 in Greece was a 66-year-old man, who died on 12 March. As of 16 November 2020, there have been 76403 confirmed cases and 1165 deaths. Since the opening of the Greek borders to tourists at the end of June 2020, the daily number of confirmed cases announced has included those detected following tests at the country's entry points. Following the confirmation of the first three cases in Greece, all carnival events in the country were cancelled on 27 February. Health and state authorities issued precautionary guidelines and recommendations, while measures up to early March were taken locally and included the closure of schools and the suspension of cultural events in the affected areas (particularly Ilia, Achaea and Zakynthos). On 10 March, with 89 confirmed cases and no deaths in the country, the government decided to suspend the operation of educational institutions of all levels nationwide and then, on 13 March, to close down all cafes, bars, museums, shopping centres, sports facilities and restaurants in the country. On 16 March, all retail shops were also closed and all services in all areas of religious worship of any religion or dogma were suspended. The government has announced a series of measures worth a total of around 24 billion euros, 14% of the country's GDP, to support the economy.[2]\n",
    "On 22 March, the Greek authorities announced restrictions on all non-essential movement throughout the country, starting from 6 a.m. on 23 March. From that date, movement outside the house was permitted only for seven categories of reasons: i) moving to or from one's workplace during work hours, ii) going to the pharmacy or visiting a doctor iii) going to a food store iv) going to the bank for services not possible online, v) assisting a person in need of help vi) going to a major ritual (funeral, marriage, baptism) or movement, for divorced parents, which is essential for contact with their children, and vii) moving outdoors for exercising or taking one's pet out, individually or in pairs. Citizens leaving their homes are required to carry their police ID or passport, as well as a signed attestation in which the purpose or category of travel is stated. The Hellenic Police, the Municipal Police, the Hellenic Coast Guard and the National Transparency Authority are empowered to enforce the restrictions and can issue fines for each offence. On 4 April these restrictions were extended until 27 April and on 23 April they were extended until 4 May.[3][4] The measures put in place in Greece are among the most proactive and strictest in Europe and have been credited internationally for having slowed the spread of the disease and having kept the number of deaths among the lowest in Europe.[5][6][7][8][9][10]Starting from 4 May, after a 42-day lockdown, Greece began to gradually lift restrictions on movement and to restart business activity.Greece put in place new measures and restrictions on movement and business activity from 7 November 2020. Kindergartens, primary schools and special schools remained open, unlike the first lockdown in March, while middle and high schools switched to distance learning. On 12 January 2020, the World Health Organization (WHO) confirmed that a novel coronavirus was the cause of a respiratory illness in a cluster of people in Wuhan City, Hubei Province, China, which was reported to the WHO on 31 December 2019.[12][13]\n",
    "The case fatality ratio for COVID-19 has been much lower than SARS of 2003,[14][15] but the transmission has been significantly greater, with a significant total death toll.[16][14] On 28 July it was reported that the reproduction number R for Greece was stable at 0.4,[17] but reportedly R rose to 1.0 in early August.[18] On 26 February, the first case in Greece was confirmed. A 38-year-old woman from Thessaloniki, who had recently visited Milan, Νorthern Italy, tested positive and was admitted to AHEPA University Hospital. Her family, as well as those who came into contact with her, voluntarily isolated themselves.[19]On 27 February, two new cases in Greece were confirmed. The woman's nine-year-old child tested positive and was admitted to the same hospital as her mother.[20] Additionally, a 40-year-old woman who had travelled to Italy also tested positive and was admitted to Attikon University General Hospital.[21][22][23][24] Following the confirmation of the second and third cases in Greece, it was announced that the 105th Primary School of Thessaloniki, where the first patient's daughter went to school, would close for fourteen days. The Minister of Health, Vasilis Kikilias, also announced that all carnival events would be cancelled throughout Greece.[22][25][21]\n",
    "On 28 February, the fourth case in Greece was confirmed. A 36-year-old woman from Athens who had recently travelled to Italy tested positive and was admitted to the Attikon University General Hospital.[26][20] Eight state schools were closed as a precautionary measure in Attica to prevent the spread of the virus, and all educational school trips abroad were cancelled.[27]On 29 February, three new cases in Greece were confirmed. A friend of the 38-year-old woman who was the first case in Greece, was admitted to the AHEPA University Hospital.[28] Additionally, two more people in Athens were admitted to the General Hospital Sotiria, bringing the country total to seven confirmed cases. On 4 March, two new cases were confirmed in Greece. A middle-aged man in close contact with the fifth confirmed case, tested positive and was put in solitary confinement at AHEPA University Hospital.[30] Additionally, a man who had travelled to Israel and Egypt, was admitted to the General University Hospital of Patras, bringing the country total to nine confirmed cases.[31]\n",
    "On 5 March, 22 new cases were confirmed in Greece. The 66-year-old wife, who was the ninth case in Greece, tested positive and was admitted to the same hospital as her husband.[32] 21 of their fellow travellers also tested positive, bringing the country total to 31 cases.[33]\n",
    "On 6 March, 14 new cases were confirmed in Greece. Eleven members of the Israel-Egypt travel group, as well as three people who afterwards came in contact with them, tested positive, bringing the country total to 45 confirmed cases. Schools, universities, theaters and cinemas were closed until 22 March in three of the affected areas (Achaia, Ileia and Zakynthos).[34]\n",
    "On 7 March, 21 new cases were confirmed in Greece. Thirteen people in Achaia and Ileia, seven in Attica and one in Euboea tested positive, bringing the country total to 66 confirmed cases.[35]\n",
    "On 8 March, seven new cases were confirmed in Greece, bringing the country total to 73.[36]\n",
    "On 9 March, eleven new cases were confirmed in Greece, bringing the country total to 84.[37] Among those cases was the first one to be reported in Lesbos, raising fears that the virus could spread to the island's tightly packed refugee camps.[38]\n",
    "On 10 March, five new cases were confirmed in Greece, bringing the country total to 89.[39] Evangelos Marinakis, the owner of the football clubs Olympiacos in Greece and Nottingham Forest in England, informed the public via social media that he had contracted the virus, and urged all to follow the orders of health professionals.[40] Health Minister Vasilis Kikilias announced the closure of all educational institutions for 14 days.[41]\n",
    "On 11 March, ten new cases were confirmed in Greece, bringing the country total to 99. The 66-year-old man hospitalised in Rio was diagnosed with multiple organ dysfunction syndrome.[42]\n",
    "On 12 March, 18 new cases were confirmed in Greece, bringing the country total to 117.[43] The first two reported cases in Greece, a mother and her child, were released from the hospital, having fully recovered.[44] The 66-year-old patient in Rio died as a result of the virus, which was the first virus-related death in Greece.[45]\n",
    "On 13 March, 73 new cases were confirmed in Greece, bringing the country total to 190.[46] Katerina Sakellaropoulou was sworn in as President of Greece in the Hellenic Parliament and became the first woman to hold the office, succeeding Prokopis Pavlopoulos. Sakellaropoulou suspended the protocol ceremony for the inauguration scheduled for Saturday 14 and no handshakes were allowed.[47][48]\n",
    "On 14 March, 38 new cases were confirmed in Greece, bringing the country total to 228, while six more were released from hospitals, bringing the recovered total to eight.[49] A 90-year-old man hospitalised in Ptolemaida died.[50] Also, a 67-year-old man hospitalised in Zakynthos died, bringing the country death toll to three.[51] A change in strategy to only testing the elderly, severely ill and other high-risk groups, as well as healthcare personnel was announced by Dr. Sotiris Tsiodras, the health ministry spokesman on the coronavirus pandemic.[a][53]\n",
    "On 15 March, 103 new cases were confirmed in Greece, bringing the country total to 331, while two more were released from hospitals, bringing the recovered total to ten.[54] A 53-year-old man died from the virus, in AHEPA, bringing the country death toll to four.[55]\n",
    "On 16 March, 21 new cases were confirmed in Greece, bringing the country total to 352.[56]\n",
    "On 17 March, 35 new cases were confirmed in Greece, bringing the country total to 387, while four were released from hospitals, bringing the recovered total to 14. A man died bringing the country death toll to five.[57]\n",
    "On 18 March, 31 new cases were confirmed in Greece, bringing the country total to 418.[58] A total of 6,000 samples had been tested nationally up to this point.[59] A childbirth was recorded, where the mother tested positive for COVID-19 but the child did not.[60]\n",
    "On 19 March, 46 new cases were confirmed in Greece, bringing the country total to 464, while five more were released from hospitals, bringing the recovered total to 19.[61] A 70-year-old man who had been hospitalised in Kastoria, died, bringing the country death toll to six.[62]\n",
    "On 20 March, 31 new cases were confirmed in Greece, bringing the country total to 495. Four more people died, bringing the country death toll to ten.[63]\n",
    "On 21 March, 35 new cases were confirmed in Greece, bringing the country total to 530.[64] Three more people died, bringing the country death toll to 13.[65]\n",
    "On 22 March, 94 new cases were confirmed in Greece, bringing the country total to 624.[66] Two more people died, bringing the country death toll to 15.[66]\n",
    "On 23 March, 71 new cases were confirmed in Greece, bringing the country total to 695, while ten people were released from hospitals, bringing the recovered total to 29.[67] A 64-year-old man at Rio Hospital in Achaea and an elderly man at Sotiria Hospital in Athens died as a result of the virus, bringing the country death toll to 17.[68][69] During the night, another childbirth was recorded where the mother tested positive for COVID-19.[70]\n",
    "On 24 March, 48 new cases were confirmed in Greece, bringing the country total to 743, while three people were released from hospitals, bringing the recovered total to 32. Three more people died due to the virus, bringing the country death toll to 20.[71] A 40-year-old woman, who had died three days previously, was found to have been positive for the virus making her, by far, the youngest victim of the pandemic in Greece.[72] The new President of Greece, Katerina Sakellaropoulou, declared she was going to address the nation on the evening of the 24th regarding both the COVID-19 pandemic and the 25th of March Independence Day celebrations.\n",
    "On 25 March, 78 new cases were confirmed in Greece, bringing the country total to 821, while four people were released from hospitals, bringing the recovered total to 36. Two more deaths from coronavirus were reported, bringing the country death toll to 22.[73]\n",
    "On 26 March, 71 new cases were confirmed in Greece, bringing the country total to 892, while six people were released from hospitals, bringing the recovered total to 42. Four more deaths from coronavirus were reported, bringing the country death toll to 26.[74]\n",
    "On 27 March, 74 new cases were confirmed in Greece, bringing the country total to 966, while ten people were released from hospitals, bringing the recovered total to 52. Two more deaths from coronavirus were reported, bringing the country death toll to 28.[75]\n",
    "On 28 March, 95 new cases were confirmed in Greece, bringing the country total to 1,061. Four more deaths from coronavirus were reported, bringing the country death toll to 32.[76]\n",
    "On 29 March, 95 new cases were confirmed in Greece, bringing the county total to 1,156, while one person was released from Alexandroupoli University hospital, bringing the recovered total to 53. Six more deaths from coronavirus were reported, bringing the country death toll to 38.[77] The first case of coronavirus was reported in the monastery at Mount Athos.[78]\n",
    "On 30 March, 56 new cases were confirmed in Greece, bringing the county total to 1,212. Five more deaths from coronavirus were reported, bringing the country death toll to 43.[79]\n",
    "On 31 March, 102 new cases were confirmed in Greece, bringing the country total to 1,314. Six more deaths from coronavirus were reported, bringing the country death toll to 49.[80] 20 of the cases are aboard a passenger ship stationed outside the port of Piraeus. It carried 382 people, including 36 Greeks, 150 Turks, 83 Indonesians and others. Some of the people were Turkish workers traveling to Spain but the ship was turned back to Turkey when the cases were identified. It was not accepted in Turkey and since 21 March has been outside Piraeus.[81]\n",
    "April\n",
    "On 1 April, 101 new cases were confirmed in Greece, bringing the country total to 1,415. One more death from coronavirus was reported, bringing the country death toll to 50.[82]\n",
    "On 2 April, 129 new cases were confirmed in Greece, the highest number in a single day up to that date, bringing the country total to 1,544. Twenty-seven new cases were reported in the general population, 23 in the Ritsona refugee and immigrant camp, and 79 new cases on the ship El. Venizelos which is being kept off the port of Piraeus, bringing the total cases on the ship to 119. Three more deaths from coronavirus were reported, bringing the country death toll to 53.[83]\n",
    "On 3 April, it was announced that the total number of confirmed cases in the country was 1,613. Six more deaths from coronavirus were reported, bringing the country death toll to 59.[84]\n",
    "On 4 April, 60 new cases were confirmed in Greece, bringing the country total to 1,673. Nine more deaths from coronavirus were reported, bringing the country death toll to 68. Ninety-two coronavirus patients were being treated in intensive care units.[85]\n",
    "On 5 April, 62 new cases were confirmed in Greece, bringing the country total to 1,735. Five more deaths from coronavirus were reported, bringing the country death toll to 73. Ninety-three coronavirus patients were being treated in intensive care units.[86]\n",
    "On 6 April, 20 new cases were confirmed in Greece, bringing the country total to 1,755. Six more deaths from coronavirus were reported, bringing the country death toll to 79.[87]\n",
    "On 7 April, 77 new cases were confirmed in Greece, bringing the country total to 1,832. Two more deaths from coronavirus were reported, bringing the country death toll to 81.[88]\n",
    "On 8 April, 52 new cases were confirmed in Greece, bringing the country total to 1,884. Two more deaths from coronavirus were reported, bringing the country death toll to 83. The number of coronavirus patients in ICUs was 84.[89]\n",
    "On 9 April, 71 new cases were confirmed in Greece, bringing the country total to 1,955. Three more deaths from coronavirus were reported, bringing the country death toll to 86. The number of coronavirus patients in ICUs was 79.[90]\n",
    "On 10 April, 56 new cases were confirmed in Greece, bringing the country total to 2,011. Four more deaths from coronavirus were reported, bringing the country death toll to 90. One of the people who died was from Mesopotamia, Kastoria an area that was in quarantine.[91] The number of coronavirus patients in ICUs was 77.\n",
    "On 11 April, 72 new cases were confirmed in Greece, bringing the official country total to 2,081 (minor discrepancy). Three more deaths from coronavirus were reported, bringing the country death toll to 93. The number of coronavirus patients in ICUs was 75.[92]\n",
    "On 12 April, 33 new cases were confirmed in Greece, bringing the country total to 2,114. Five more deaths from coronavirus were reported, bringing the country death toll to 98. The number of coronavirus patients in ICUs was 76.[93]\n",
    "On 13 April, 31 new cases were confirmed in Greece, bringing the country total to 2,145. One more death from coronavirus was reported, bringing the country death toll to 99. The number of coronavirus patients in ICUs was 73.[94] Later the same day an 84-year-old man died in Attica marking the 100th death from COVID-19 in the country.[95]\n",
    "On 14 April, 25 new cases were confirmed in Greece, bringing the country total to 2,170. Two more deaths from coronavirus were reported, bringing the country death toll to 101. The number of coronavirus patients in ICUs was 76.[96]\n",
    "On 15 April, 22 new cases were confirmed in Greece, bringing the country total to 2,192.[97] During the daily report, 1 more death from coronavirus was reported, bringing the country death toll to 102.[98] Shortly after a 57-year-old woman was reported as having died in AHEPA University Hospital.[97]\n",
    "On 16 April, 15 new cases were confirmed in Greece, bringing the country total to 2,207. The death toll brought to 105.[99]\n",
    "On 17 April, 17 new cases were confirmed in Greece, bringing the country total to 2,224.[100] A 76-old-man died in Ptolemaida[101] and two others later. The deaths toll brought to 108.[102]\n",
    "On 18 April, 11 new cases were confirmed in Greece, bringing the country total to 2,235.[103]\n",
    "On 20 April, 10 new cases and 6 new deaths were announced, bringing the country total to 2,245 cases and 116 deaths, respectively. On the same day, all 470 refugees accommodated in a facility in Kranidi, Argolis were tested for the virus as well as all staff of the facility, the local clinic and the International Organization for Migration (IOM), a total of 497 samples.[104] Among them a 68-year-old woman in Kastoria.[105] Some hours after the daily report, an 87-year-old man died in AHEPA University Hospital.[106]\n",
    "On 21 April, 156 new cases were confirmed in Greece, the highest number in a single day up to that date, bringing the total to 2,401.[107] Of those 156, 150 cases, all asymptomatic, were related to the refugee facility in Kranidi. Out of a total of 497 samples taken the day before, 148 had been found to be positive among the refugees and 2 among the facility's staff and members of the IOM.[108][109] The same day, five more deaths from coronavirus were reported, bringing the country's death toll to 121. The number of coronavirus patients in ICUs was 59. A 35-year-old man in Thessaloniki, a 75-year-old man in Athens,[110] and a 101-year-old woman were among the dead.[111]\n",
    "On 22 April, no deaths were reported. Seven new cases were confirmed.[112]\n",
    "On 23 April, 55 new cases and 4 new deaths were reported at the daily report.[113] The deaths were an 88-year-old man,[114] a 76-old man who was being treated by the Red Cross,[115] a 90-year-old man in AHEPA University Hospital[116] and a 63-year-old man in Thriasio.[117] After the daily report, two more people died: an 87-year-old in NIMITS Hospital and a 74-year-old woman in Alexandroupoli.[118]\n",
    "On 24 April, a 59-year-old woman died in AHEPA University Hospital[119] and an 81-year-old woman in Komotini.[120] Twenty-seven new cases and 5 new deaths were reported at the daily report.[121]\n",
    "On 25 April, no new deaths were reported. Sixteen new cases were confirmed.[122] Three hours after the daily report, the death of a 78-year-old man at Evangelismos Hospital was reported.[123]\n",
    "On 26 April, 4 new deaths and 11 new cases were confirmed within the previous 24 hours.[124] The deaths included a 91-year-old man at \"Sotiria\" Hospital in Athens,[125] and a 58-year-old woman in Alexandroupoli.[126]\n",
    "On 27 April, 2 new deaths and 17 new cases were confirmed within the previous 24 hours.[127] The two deaths were an 80-year-old woman at Papanikolaou Hospital and a 59-year-old man in Alexandroupoli.[128]\n",
    "On 28 April, a 90-year-old man in Rio died[129] and an 84-year-old man at Taxiarchai.[130]\n",
    "On 29 April, 10 news cases were confirmed within the previous 24 hours.[131] An 89-year-old man at NIMTS Hospital died.[132]\n",
    "On 30 April, one new death and 15 new cases were confirmed.[133] The confirmed total number of recoveries was announced to be 1,374.[134]\n",
    "May\n",
    "On 1 May, no new deaths and 21 new cases were confirmed.[135]\n",
    "On 2 May, 3 more deaths occurred: A 57-year-old man at Sotiria Hospital, and one 88-year-old man and one 83-year-old man, both at NIMTS. Greece's cases total reached 2,612 and its death toll 143.[136]\n",
    "On 3 May, a 76-year-old woman died at NIMTS.[137] Greece's cases total reached 2,620 and its death toll 144.\n",
    "On 4 May, an 88-year-old woman died at Attikon University General Hospital,[138] and a 50-year-old died in Larissa.[139] The confirmed cases of coronavirus in Greece totalled 2,632, and the death toll reached 146 as two people had died in the previous 24 hours.[140]\n",
    "On 5 May, no new deaths and 10 new cases were confirmed.[141]\n",
    "On 6 May, an 89-year-old woman died at Sotiria Hospital.[142]\n",
    "On 7 May, 1 new death and 15 new cases were confirmed. Shortly after, a 67-year-old man in Larissa died.[143]\n",
    "On 8 May, Dr. Dimitris Kremastinos died at the age of 79. The death toll rose to 150 and 15 new cases were confirmed.[144]\n",
    "On 9 May, one new death and 19 new cases were confirmed.[145]\n",
    "On 10 and 11 May, there were no new deaths.[146]\n",
    "On 12 May, 1 new death was announced.[147]\n",
    "On 13 May, 3 new deaths were announced.[148]\n",
    "On 14 May, 1 new death was announced.[149]\n",
    "On 15 May, 4 new deaths were announced and 40 new cases were confirmed, 35 of which were from among 637 samples taken the day before from residents of a Roma settlement in Larissa, after several cases had been recorded there in the previous days. Positive cases were quarantined and transferred to a medical centre and their contacts were traced, after clashes occurred with residents disputing the test results and opposing the patients' transfer. A local night curfew was also imposed for 14 days. The use of face masks for everyone in the area became mandatory and masks and antiseptics were distributed to each family.[150][151][152]\n",
    "On 16 May, 2 new cases were reported, the lowest since 4 March. A 92-year-old and an 84-year-old woman died in NIMITS.[153]\n",
    "On 21 May, one death and 3 new cases were announced, the total confirmed cases during the pandemic reached 2,853 and there had been 168 total deaths[154]\n",
    "On 22 May, a 79-year-old man died at AHEPA.[155]\n",
    "On 23 May, a 91-year-old woman at Agia Varvara General Hospital in Attica[156] and an 89-year-old man at Attikon died.[157]\n",
    "June\n",
    "On 1 June, 4 new deaths were announced, a 66-year-old woman died at Sotiria Thoracic Diseases Hospital in Athens and an 87-year-old man also died at NIMTS.[158]\n",
    "On 2 June, no new deaths were announced. Nineteen new cases were reported, of whom 12 had travelled on a flight from Doha. As a result, all flights to and from Qatar were suspended until 15 June.[159]\n",
    "On 6 June, a 72-year-old man died at Sotiria Thoracic Diseases Hospital in Athens bringing the country's total to 181.[160]\n",
    "On 7 June, a 59-year-old woman from Satres died at the University Hospital of Alexandroupoli bringing the country's total to 182.[161]\n",
    "On 15 June, the death of an 82-year-old man at the Hospital of Alexandroupoli was announced, bringing the country's total to 184.[162]\n",
    "On 16 June, the deaths of a 67-year-old and a 74-year-old man as well as an 82-year-old woman, all from Echinos, Myki municipality in the Xanthi regional unit, were announced. Of the 15 cases confirmed on 16 June, 11 of them were residents of Echinos.[163] Around 40% of the total number of cases confirmed in the country from 8 to 16 June related to the wider area of Xanthi. As a result, new emergency measures were imposed in the municipalities of Myki and Iasmos in Thraki.[164]\n",
    "On 17 June, a total of 55 new cases were reported of which 43 were in the Xanthi regional unit (38 in Myki municipality, of which 36 in the village of Echinos, and 5 in Xanthi municipality). Another 6 cases were reported in the Rhodope regional unit. In total, 49 out of the 55 new cases were reported in Thrace, while a foreign traveller also tested positive for the virus.[165][166]\n",
    "On 18 June, a total of 24 new cases were confirmed in the country. Of those, 18 were reported in the Xanthi regional unit, 2 in the Rhodope regional unit and there were 4 people arriving from abroad who were confirmed positive.[167] The death of a 64-year-old woman from Echinos with underlying medical conditions was also announced on 18 June.[168] From 15 to 18 June, a total of six COVID-19 deaths occurred in the country, all residents of Echinos.[169]\n",
    "On 19 June, a total of 10 new cases were reported, of which 4 were in Rhodope regional unit, 2 in Xanthi regional unit and 4 were people who had arrived in Greece from abroad.[170]\n",
    "On 20 June, one death and 19 new cases were announced. Of those, 8 were found in Xanthi regional unit, 1 in Athens and 1 in Pella regional unit, and there were also 9 cases confirmed among travellers who had arrived to Greece on flights from abroad or by car through the Promachonas border crossing with Bulgaria.[171]\n",
    "On 21 June, a total of 10 new cases were confirmed nationally, of which 3 were in Rhodope, 2 in Thesprotia, 1 in Xanthi and 4 were detected among travellers arriving in Greece by air or by car from the Promachonas border crossing.[172]\n",
    "On 22 June, 21 new cases were reported. Of those, 9 were found in Xanthi, 5 among travellers from abroad, another 5 in Thesprotia, 1 in Athens and 1 in Edessa, Pella.[173]\n",
    "On 23 June, a total of 16 new cases were confirmed, of which 5 in Myki municipality of Xanthi regional unit, 3 in Xanthi municipality, 2 in Athens and another 2 in Paramythia, Thesprotia, 1 in Rhodope and another 1 in Edessa. There were also 2 infected travellers detected at the Promachonas Greek-Bulgarian border crossing.[174]\n",
    "On 24 June, 8 new cases were reported, of which 3 were detected in Rhodope, 1 in Alexandroupoli, Evros, 1 in Messenia, 1 in Attica, and 2 cases were detected in arrivals by car through the Promachonas border crossing with Bulgaria.[175]\n",
    "On 25 June, a 64-year-old woman died at the Hospital of Komotini, and 13 new cases were announced. Of those, 3 were detected in Xanthi, 1 in Paramythia, 1 in the island of Syros, 1 in Kastoria, 1 in Pella, 1 in Rhodope and there were also 5 cases confirmed among travellers who arrived in Greece on flights from abroad or by car through the Greek–Bulgarian border crossing at Promachonas.[176]\n",
    "On 26 June, 22 new cases were confirmed, of which 10 were found among travellers who arrived in Greece on flights from abroad or by car through the Promachonas border crossing with Bulgaria, while 4 were found in Kastoria, 3 in Paramythia, 2 in Attica and 1 in Alexandroupoli and Komotini.[177]\n",
    "On 27 June, 23 new cases were reported, of which 8 were detected among passengers on flights from abroad, 6 in Kastoria, 3 in Syros, another 3 in a refugee camp in Lesvos, 2 in Paramythia and 1 in Athens.[178]\n",
    "On 29 June, 15 new cases were announced, of which 12 were detected in Xanthi Regional Unit and the rest were confirmed among travellers who had arrived on flights from abroad.[179]\n",
    "On 30 June, a total of 20 new cases were confirmed, of which 9 were found among passengers on flights from abroad, 4 were found in Xanthi Regional Unit, 2 in Attica and another 2 in Kastoria, and 1 in Kozani, Syros and Larissa.[180]\n",
    "July\n",
    "As of 1 July, out of the total of 3,432 confirmed cases, 777 (22.6%) were related to travel abroad, 1906 (55.5%) were related to a known case, and the rest were still of undetermined origin. Overall, as of that date, the average age of the cases was 47 years and the average age of the deaths was 76 years (a range of 35–102 years old).[181]\n",
    "On 14 July there were 58 new confirmed cases, raising the total number of cases to 3,883. Of the 58 new cases, 8 were reported in Attica, 7 in Thessaloniki, 3 in Lesvos, 2 in Xanthi, 1 each in Imathia, Kozani, Arta, and Halkidiki, while 34 persons tested positive on arrival. The total death toll stood at 193; 62 women and 131 men.[182]\n",
    "On 15 July there were 27 new confirmed cases, bringing the total number of cases to 3,910. Of the 27 new cases, 8 were reported in Attica, 5 in Thessaloniki, 2 in Grevena, 1 each in Xanthi, Kastoria and Paros, while 9 persons tested positive on arrival. The death toll remained unchanged.[183]\n",
    "On 16 July there were 35 new confirmed cases, bringing the total number of cases to 3,939. Of the 35 new cases, 10 were reported in Attica, 3 in Thessaloniki, 1 each in Drama, Kozani, Larissa and Halkidiki, while 18 persons tested positive on arrival. The death toll remained unchanged.[184]\n",
    "On 17 July there were 28 new confirmed cases, bringing the total number of cases to 3,964. Of the 28 new cases, 3 were reported in Attica, 2 each in Thessaloniki, Xanthi, Magnesia and Larissa, one each in Heraklion and Halkidiki, while 12 persons tested positive on arrival. The death toll rose to 194.[185]\n",
    "On 18 July there were 19 new confirmed cases, of which 9 in Attica, 2 in Thessaloniki and 1 each in Kozani, Cycladic Islands, Larissa, Xanthi, and Halkidiki. The death toll remained unchanged.[186]\n",
    "On 19 July there were 24 new confirmed cases, bringing the total number to 4,007. Of the 24 new cases, 2 each were reported in Attica and Thessaloniki, 1 each in Magnesia and Halkidiki, while 18 persons tested positive on arrival. The death toll remained unchanged.[187]\n",
    "On 20 July there were 5 new confirmed cases, bringing the total number to 4,012. The death toll rose to 195.[188]\n",
    "On 21 July there were 36 new confirmed cases, bringing the total number to 4,048. Of the 36 new cases, 17 were reported in Attica, 4 in Thessaloniki, 2 each in Xanthi and Larissa, 1 each in Viotia, Aitoloakarnanias, Heraklion, Corinthia, Pellas, and Samos, while 5 persons tested positive on arrival. The death toll rose to 197.[189]\n",
    "On 24 July there were 26 new confirmed cases, bringing the total number to 4,135. Of the 26 new cases, 8 were reported in Attica, 5 in Thessaloniki, 1 each in Magnesia, Halkidiki and Kavala, while 10 persons tested positive on arrival. The death toll stood at 201.[190]\n",
    "On 25 July there were 31 new confirmed cases, bringing the total number to 4,166. Of the 31 new cases, 9 were reported in Attica, 4 in Thessaloniki, 2 each in Xanthi and Samos, 1 each in Imathia, Rethymnon and Heraklion, while 11 persons tested positive on arrival. The death toll remained unchanged.[191]\n",
    "On 26 July there were 27 new confirmed cases, bringing the total number of cases to 4,193. Of the 27 new cases, 7 were reported in Attica, 3 in Achaia, 2 each in Viotia and Zakynthos, 1 each in Thessaloniki, Kavala, Kozani, Lefkada and Pieria, while 8 persons tested positive on arrival. The death toll rose to 202.[192]\n",
    "From 23 June to 24 July there were 43 confirmed cases in the Ionian islands: 19 in Corfu, 14 in Lefkada, 9 in Zakynthos, one in Kefalonia.[193]\n",
    "On 29 July there were 57 new confirmed cases, bringing the total number of cases to 4,336. Of the 57 new cases, 18 were reported in Attica, 11 in Thessaloniki, 7 in Kavala, 2 in Lefkada, 1 each in Achaia, Imathia, Kilkis, Corinth, Dodecanese and Rhodope, while 13 persons tested positive on arrival. The death toll stood at 203.[194]\n",
    "On 30 July there were 65 new confirmed cases, bringing the total number of cases to 4,401. There were 11 new cases in Attica, 7 in Thessaloniki, 3 each in Kavala and Corfu, 2 each in Achaia and Xanthi, 1 each in Magnesia, Viotia and Kozani, while 34 persons tested positive on arrival. The death toll remained unchanged.[195]\n",
    "On 31 July there were 78 new confirmed cases, bringing the total number of cases to 4,477. The death toll rose to 206.[196]\n",
    "August\n",
    "On 1 August there were 110 new confirmed cases, bringing the total number of cases to 4,587. Of the 110 new cases, 37 were reported in Thessaloniki, 23 in Kavala, 19 in Attica, 6 in Magnesia, 3 each in Corfu and Halkidiki, 2 in Pieria, 1 each in Corinth, Pellas, Larissa, Achaia and Viotia, while 12 persons tested positive on arrival. The death toll remained unchanged.[197]\n",
    "On 2 August there were 75 new confirmed cases, bringing the total number of cases to 4,662. Of the 75 new cases, 19 were reported in Attica, 15 in Thessaloniki, 13 in Kavala, 4 in Halkidiki, 2 in Fthiotis, 1 each in Arcadia, Imathia, Ioannina, Kastoria, Corfu, Kozani, Corinth, Pieria, Chania, Heraklion and Xanthi, while 9 persons tested positive on arrival. The death toll rose to 208.[198]\n",
    "On 3 August there were 77 new confirmed cases, bringing the total number of cases to 4,737. Of the 77 new cases, 28 were reported in Attica, 9 in Evros, 7 in Thessaloniki, 4 in Kavala, 3 in Corinth, 2 each in Evia, Cyclades and Chania, 1 each in Evrytania, Heraklion, Lesvos, Magnesia and Pellas, while 10 persons tested positive on arrival. The death toll rose to 209.[199]\n",
    "On 4 August there were 121 new confirmed cases, bringing the total number of cases to 4,858. Of the 121 new cases, 26 were recorded in Attica, 47 in Thessaloniki, 8 each in Halkidiki and Larissa, 2 each in Imathia and Serres, 1 each in Kavala, Arcadia, Achaia, Drama, Evros, Evia, Kozani, Pella and Chios, while 12 persons tested positive on arrival. The death toll remained unchanged.[200]\n",
    "On 5 August there were 124 new confirmed cases, bringing the total number of cases to 4,973. Of the 124 new cases, 22 each were reported in Attica and Thessaloniki, 18 in Evros, 8 each in Kavala and Larissa, 6 in Magnesia, 2 each in Rhodes, Imathia, Kozani and Halkidiki, 1 each in Corfu, Arcadia, Drama, Pieria, Kastoria, Cyclades, Pella and Chania, while 24 persons tested positive on arrival. The death toll rose to 210.[201]\n",
    "On 6 August there were 153 new confirmed cases, bringing the total number of cases to 5,123. Of the 153 new cases, 40 were recorded in Attica, 38 in Thessaloniki, 9 in Cyclades, 4 in Evros, 3 each in Corfu, Ilias, Corinth, Pellas and Halkidiki, 2 each in Achaia, Argolida, Ioannina, Kavala and Magnesia, 1 each in Thesprotia, Kilkis, Kozani, Messinia and Chania, while 18 persons tested positive on arrival. The death toll remained unchanged.[202]\n",
    "On 7 August there were 151 new confirmed cases, bringing the total number of cases to 5,270. Of the 151 new cases, 46 were recorded in Attica, 38 in Thessaloniki, 17 in Evros, 6 in Larissa, 4 in Pellas, 3 each in Magnesia and Corfu, 2 each in Aitoloakarnanias, Achaia, Heraklion, Kefalonia, Rodopia and Florina, 1 each in Corinth, Drama, Imathia, Kozani, Lesvos, Pieria, Serres, Trikala, Fthiotis and Chania, while 12 persons tested positive on arrival. The death toll remained unchanged.[203]\n",
    "On 8 August, 152 new cases were confirmed, of which 22 were travellers who had arrived from abroad. The total number of confirmed cases reached 5,421, 54.7% of whom were men. One new death due to the COVID-19 was announced bringing the total number of deaths to 211. The average age of people who had died was 76 years old.[204]\n",
    "On 9 August, 203 new cases were confirmed, the highest number in a single day up to that date, bringing the total number of cases to 5,623. In addition, one new death was announced, bringing the total number of deaths to 212.[205]\n",
    "On 10 August there were 126 confirmed new cases, bringing the total number of cases to 5,749. Of the 126 new cases, 38 were reported in Attica, 18 in Thessaloniki, 5 in Larissa, 3 each in Heraklion, Kastoria, Magnesia, Pella and Halkidiki, 2 each in Corfu, Dodecanese, Corinth and Trikala, 1 each in Viotia, Evros, Ilias, Kavala, Preveza and Serres, while 10 persons tested positive on arrival. The death toll rose to 213.[206]\n",
    "On 11 August there were 196 confirmed new cases, bringing the total number of cases to 5,942. Of the 196 new cases, 82 were reported in Attica, 42 in Thessaloniki, 7 in Larissa, 5 in Halkidiki, 4 each in Argolida and Florida, 2 each in Evros, Evia, Karditsa, Imathia, Kavala, Kefalonia, Cyclades, Pellas and Pieria, 1 each in Corfu, Viotia, Ioannina, Krikis, Corinth, Xanthi, Trikala and Aitoloakarnania, while 26 persons tested positive on arrival. The death toll rose to 214.[207]\n",
    "On 12 August there were 262 new cases, the highest number in a single day up to that date, bringing the total number of confirmed cases to 6,177. The death toll rose to 216.[208]\n",
    "On 13 August, Greece recorded its first case in one of its overcrowded asylum seeker camps: a 35-year-old man from Yemen living at the camp of Vial on the island of Chios.[209] Two hundred and four new cases were confirmed, bringing the total number of cases to 6,381. In addition, five new deaths were announced bringing the total number of deaths to 221: an 88-year-old woman, a 70-year-old man, and an 82-year-old died at the AHEPA University Hospital of Thessaloniki; a 91-year-old woman died at the Papanikolaou General Hospital of Thessaloniki; an 87-year-old man died at the General Hospital of Halkidiki.[210]\n",
    "On 14 August there were 254 new confirmed cases, bringing the total number of cases to 6,632. Of the 254 new cases, 98 were recorded in Attica, 76 in Thessaloniki, 9 in Evros, 6 each in Larissa and Halkidiki, 5 in Ilias, 4 each in Argolida, Achaia and Pellas, 3 each in Imathia, Cyclades and Pieria, 2 each in Aitoloakarnania, Heraklion, Kilkis and Lesvos, 1 each in Viotia, Grevena, Ioannina, Kavala, Kefalonia, Lefkada, Messinia, Serres, Fthiotis and Chios, while 22 persons tested positive on arrival. The death toll rose to 223.[211]\n",
    "On 15 August there were 230 new confirmed cases, bringing the total number of cases to 6,858. The death toll rose to 226.[212]\n",
    "On 16 August, 217 new cases were confirmed bringing the total number of cases to 7,075 and two new deaths were announced, bringing the total number of deaths to 228: a 71-year-old man died at the AHEPA University Hospital of Thessaloniki and an 87-year-old woman died at the Bodosakeio General Hospital of Ptolemaida.[213]\n",
    "On 17 August there were 150 new cases, bringing the total number of cases to 7,222. The death toll rose to 230.[214]\n",
    "A new daily high was recorded on 18 August, with 269 confirmed cases. The total number of cases reached 7,472. The death toll rose by 2 to 232.[215]\n",
    "On 19 August there were 217 new cases, bringing the total number of cases to 7,684. The death toll rose by 5 to 235.[216]\n",
    "On 20 August, 269 new cases were confirmed, the total number of cases was brought to 7934. No new deaths were announced.[217]\n",
    "On 21 August, 209 new cases were confirmed, the total number of cases was brought to 8,138. Three new deaths were announced, bringing the total number of fatalties to 238.[218]\n",
    "On 22 August, 264 new cases were confirmed, the total number of cases was brought to 8,381. Two new deaths were announced, bringing the total number of fatalties to 240.[219]\n",
    "A new record of confirmed cases was recorded on 23 August, 284 new cases, the total number of cases was brought to 8,664. Two new deaths were announced, bringing the total number of fatalties to 242.[220]\n",
    "On 24 August, 170 new cases were confirmed, the total number of cases was brought to 8,819. No new deaths were announced.[221]\n",
    "On 25 August there were 168 new cases, bringing the total number of cases to 8,987. The death toll rose by 1 to 243.[222]\n",
    "A new daily high was recorded on 26 August, with 293 new cases. The total number of cases reached 9,280. The death toll rose by 5 to 248.[223]\n",
    "On 27 August there were 259 new cases, bringing the total number of cases to 9,531. The death toll rose by 6 to 254.[224]\n",
    "On 28 August there were 270 new cases, bringing the total number of cases to 9,800. The death toll rose by 5 to 259.[225]\n",
    "On 29 August there were 177 new cases, bringing the total number of cases to 9,977. The death toll rose by 1 to 260.[226]\n",
    "On 30 August there were 157 new cases, bringing the total number of cases to 10,134. The death toll grew by 2 to 262.[227]\n",
    "On 31 August there were 183 new cases, bringing the total number of cases to 10,317. The death toll rose by 4 to 266.[228]\n",
    "September By 15 September the total number of confirmed cases had risen to 13,730 and the death toll to 313.[229]\n",
    "By 30 September the total number of confirmed cases had risen to 18,475 and the death toll to 391.[230]\n",
    "October By 15 October the total number of confirmed cases had risen to 23,947 and the death toll to 482.[231] By 27 October the total number of confirmed cases had risen to 34,299 and the death toll to 603.[232]\n",
    "November By 15 November the total number of confirmed cases had risen to 74,205 and the death toll to 1,106.[233]]\n",
    "\"\"\""
   ]
  },
  {
   "cell_type": "code",
   "execution_count": 21,
   "metadata": {},
   "outputs": [
    {
     "name": "stdout",
     "output_type": "stream",
     "text": [
      "--- 1.1329059600830078 seconds ---\n"
     ]
    }
   ],
   "source": [
    "start_time = time.time()\n",
    "word_locator(article,'die')\n",
    "print(\"--- %s seconds ---\" % (time.time() - start_time))"
   ]
  },
  {
   "cell_type": "code",
   "execution_count": 22,
   "metadata": {},
   "outputs": [
    {
     "data": {
      "text/plain": [
       "([('died', 86)],\n",
       " [[604,\n",
       "   8369,\n",
       "   9069,\n",
       "   9129,\n",
       "   9601,\n",
       "   9938,\n",
       "   10483,\n",
       "   10637,\n",
       "   10796,\n",
       "   10952,\n",
       "   11268,\n",
       "   11637,\n",
       "   11732,\n",
       "   16542,\n",
       "   17426,\n",
       "   17994,\n",
       "   18264,\n",
       "   18922,\n",
       "   20030,\n",
       "   20151,\n",
       "   20965,\n",
       "   21132,\n",
       "   21578,\n",
       "   21688,\n",
       "   21756,\n",
       "   21888,\n",
       "   22017,\n",
       "   22147,\n",
       "   22193,\n",
       "   23264,\n",
       "   23468,\n",
       "   23601,\n",
       "   23677,\n",
       "   23758,\n",
       "   24008,\n",
       "   24146,\n",
       "   27205,\n",
       "   36021,\n",
       "   37787,\n",
       "   37862,\n",
       "   37940,\n",
       "   38837,\n",
       "   38916]])"
      ]
     },
     "execution_count": 22,
     "metadata": {},
     "output_type": "execute_result"
    }
   ],
   "source": [
    "word_locator(article,'die')"
   ]
  }
 ],
 "metadata": {
  "kernelspec": {
   "display_name": "Python 3",
   "language": "python",
   "name": "python3"
  },
  "language_info": {
   "codemirror_mode": {
    "name": "ipython",
    "version": 3
   },
   "file_extension": ".py",
   "mimetype": "text/x-python",
   "name": "python",
   "nbconvert_exporter": "python",
   "pygments_lexer": "ipython3",
   "version": "3.8.3"
  }
 },
 "nbformat": 4,
 "nbformat_minor": 4
}
